{
 "cells": [
  {
   "cell_type": "markdown",
   "metadata": {},
   "source": [
    "# **Task 3: Fine Tune NER Model**"
   ]
  },
  {
   "cell_type": "code",
   "execution_count": 1,
   "metadata": {},
   "outputs": [
    {
     "name": "stderr",
     "output_type": "stream",
     "text": [
      "/home/neba/Desktop/Data_Engineering/KAMI/Week-5/Amharic_Entity_Master/.env/lib/python3.12/site-packages/tqdm/auto.py:21: TqdmWarning: IProgress not found. Please update jupyter and ipywidgets. See https://ipywidgets.readthedocs.io/en/stable/user_install.html\n",
      "  from .autonotebook import tqdm as notebook_tqdm\n"
     ]
    }
   ],
   "source": [
    "import pandas as pd\n",
    "import numpy as np\n",
    "import matplotlib.pyplot as plt\n",
    "import seaborn as sns\n",
    "from sklearn.model_selection import train_test_split\n",
    "from sklearn.metrics import precision_recall_fscore_support\n",
    "from transformers import XLMRobertaTokenizerFast\n",
    "from datasets import Dataset, Features, Sequence, Value\n",
    "from transformers import TrainingArguments\n",
    "from transformers import XLMRobertaForTokenClassification, AutoModelForTokenClassification, AutoTokenizer, Trainer"
   ]
  },
  {
   "cell_type": "markdown",
   "metadata": {},
   "source": [
    "# Load the Labeled Dataset from CoNLL File"
   ]
  },
  {
   "cell_type": "code",
   "execution_count": 2,
   "metadata": {},
   "outputs": [],
   "source": [
    "# Function to load CoNLL formatted data\n",
    "def load_conll(file_path):\n",
    "    sentences = []\n",
    "    labels = []\n",
    "    with open(file_path, 'r', encoding='utf-8') as f:\n",
    "        sentence = []\n",
    "        label = []\n",
    "        for line in f:\n",
    "            if line.strip():  # Non-empty line\n",
    "                token, label_item = line.split()\n",
    "                sentence.append(token)\n",
    "                label.append(label_item)\n",
    "            else:  # Empty line indicates end of a sentence\n",
    "                sentences.append(sentence)\n",
    "                labels.append(label)\n",
    "                sentence = []\n",
    "                label = []\n",
    "    return pd.DataFrame({'tokens': sentences, 'labels': labels})\n",
    "\n",
    "# Load your CoNLL file\n",
    "data = load_conll('../telegram_labeled_data.conll')"
   ]
  },
  {
   "cell_type": "code",
   "execution_count": 3,
   "metadata": {},
   "outputs": [
    {
     "data": {
      "text/html": [
       "<div>\n",
       "<style scoped>\n",
       "    .dataframe tbody tr th:only-of-type {\n",
       "        vertical-align: middle;\n",
       "    }\n",
       "\n",
       "    .dataframe tbody tr th {\n",
       "        vertical-align: top;\n",
       "    }\n",
       "\n",
       "    .dataframe thead th {\n",
       "        text-align: right;\n",
       "    }\n",
       "</style>\n",
       "<table border=\"1\" class=\"dataframe\">\n",
       "  <thead>\n",
       "    <tr style=\"text-align: right;\">\n",
       "      <th></th>\n",
       "      <th>tokens</th>\n",
       "      <th>labels</th>\n",
       "    </tr>\n",
       "  </thead>\n",
       "  <tbody>\n",
       "    <tr>\n",
       "      <th>0</th>\n",
       "      <td>[ኦሪጅናል, ማቴሪያል, በሳይዙ, ትልቅ, 1600, ብር, 0909003864...</td>\n",
       "      <td>[O, O, O, O, I-PRICE, I-PRICE, O, O, O, O, O, ...</td>\n",
       "    </tr>\n",
       "    <tr>\n",
       "      <th>1</th>\n",
       "      <td>[ኦሪጅናል, ማቀፊያ, 1400, ብር, 0905707448, 0909003864...</td>\n",
       "      <td>[O, O, I-PRICE, I-PRICE, O, O, O, O, O, O, O, ...</td>\n",
       "    </tr>\n",
       "    <tr>\n",
       "      <th>2</th>\n",
       "      <td>[ልጆች, ዳዴ, ማለት, እንዲሉ, የሚለማመዱበት, በባትሪ, የሚሰራ, የልጆ...</td>\n",
       "      <td>[O, O, O, O, O, O, O, O, O, I-PRICE, O, O, O, ...</td>\n",
       "    </tr>\n",
       "    <tr>\n",
       "      <th>3</th>\n",
       "      <td>[የልጆችን, ቀልብ, የሚገዛ, ውብ, ምቹ, የሆነ, መነሳት, የሚችል, ስን...</td>\n",
       "      <td>[O, O, O, O, O, O, O, O, O, O, O, O, O, O, I-P...</td>\n",
       "    </tr>\n",
       "    <tr>\n",
       "      <th>4</th>\n",
       "      <td>[የልጆችን, ቀልብ, የሚገዛ, ውብ, ምቹ, የሆነ, መነሳት, የሚችል, ስን...</td>\n",
       "      <td>[O, O, O, O, O, O, O, O, O, O, O, O, I-PRICE, ...</td>\n",
       "    </tr>\n",
       "  </tbody>\n",
       "</table>\n",
       "</div>"
      ],
      "text/plain": [
       "                                              tokens  \\\n",
       "0  [ኦሪጅናል, ማቴሪያል, በሳይዙ, ትልቅ, 1600, ብር, 0909003864...   \n",
       "1  [ኦሪጅናል, ማቀፊያ, 1400, ብር, 0905707448, 0909003864...   \n",
       "2  [ልጆች, ዳዴ, ማለት, እንዲሉ, የሚለማመዱበት, በባትሪ, የሚሰራ, የልጆ...   \n",
       "3  [የልጆችን, ቀልብ, የሚገዛ, ውብ, ምቹ, የሆነ, መነሳት, የሚችል, ስን...   \n",
       "4  [የልጆችን, ቀልብ, የሚገዛ, ውብ, ምቹ, የሆነ, መነሳት, የሚችል, ስን...   \n",
       "\n",
       "                                              labels  \n",
       "0  [O, O, O, O, I-PRICE, I-PRICE, O, O, O, O, O, ...  \n",
       "1  [O, O, I-PRICE, I-PRICE, O, O, O, O, O, O, O, ...  \n",
       "2  [O, O, O, O, O, O, O, O, O, I-PRICE, O, O, O, ...  \n",
       "3  [O, O, O, O, O, O, O, O, O, O, O, O, O, O, I-P...  \n",
       "4  [O, O, O, O, O, O, O, O, O, O, O, O, I-PRICE, ...  "
      ]
     },
     "execution_count": 3,
     "metadata": {},
     "output_type": "execute_result"
    }
   ],
   "source": [
    "# Explore the first few rows\n",
    "data.head()"
   ]
  },
  {
   "cell_type": "markdown",
   "metadata": {},
   "source": [
    "# Define Unique Labels"
   ]
  },
  {
   "cell_type": "code",
   "execution_count": 4,
   "metadata": {},
   "outputs": [],
   "source": [
    "unique_labels = set(label for sublist in data['labels'] for label in sublist)\n",
    "label2id = {label: i for i, label in enumerate(unique_labels)}\n",
    "id2label = {i: label for label, i in label2id.items()}"
   ]
  },
  {
   "cell_type": "code",
   "execution_count": 5,
   "metadata": {},
   "outputs": [
    {
     "data": {
      "text/plain": [
       "{'B-LOCATION', 'B-PRICE', 'B-PRODUCT', 'I-PRICE', 'O'}"
      ]
     },
     "execution_count": 5,
     "metadata": {},
     "output_type": "execute_result"
    }
   ],
   "source": [
    "unique_labels"
   ]
  },
  {
   "cell_type": "code",
   "execution_count": 6,
   "metadata": {},
   "outputs": [],
   "source": [
    "data['labels'] = data['labels'].apply(lambda x: [label2id[label] for label in x])"
   ]
  },
  {
   "cell_type": "markdown",
   "metadata": {},
   "source": [
    "# Convert DataFrame to Hugging Face Dataset"
   ]
  },
  {
   "cell_type": "code",
   "execution_count": 7,
   "metadata": {},
   "outputs": [],
   "source": [
    "# Convert DataFrame to Hugging Face Dataset\n",
    "features = Features({\n",
    "    'tokens': Sequence(Value('string')),  # List of strings for tokens\n",
    "    'labels': Sequence(Value('int32'))    # List of integers for labels\n",
    "})\n",
    "\n",
    "# Convert DataFrame to Hugging Face Dataset with specified features\n",
    "dataset = Dataset.from_pandas(data[['tokens', 'labels']], features=features)"
   ]
  },
  {
   "cell_type": "markdown",
   "metadata": {},
   "source": [
    "# Tokenization and Label Alignment"
   ]
  },
  {
   "cell_type": "markdown",
   "metadata": {},
   "source": [
    "# Tokenize and align label for XLM-ROBERTA"
   ]
  },
  {
   "cell_type": "code",
   "execution_count": 8,
   "metadata": {},
   "outputs": [
    {
     "name": "stderr",
     "output_type": "stream",
     "text": [
      "Map: 100%|██████████| 1351/1351 [00:00<00:00, 2589.67 examples/s]\n"
     ]
    }
   ],
   "source": [
    "# Initialize the Fast Tokenizer\n",
    "tokenizer = XLMRobertaTokenizerFast.from_pretrained(\n",
    "    \"xlm-roberta-base\",\n",
    "    clean_up_tokenization_spaces=True\n",
    "    )\n",
    "\n",
    "# Define tokenizer function\n",
    "def tokenize_and_align_labels(examples):\n",
    "    tokenized_inputs = tokenizer(\n",
    "        examples['tokens'], \n",
    "        truncation=True, \n",
    "        is_split_into_words=True, \n",
    "        padding=\"max_length\",  # Padding to max length\n",
    "        max_length=128  # Adjust as needed\n",
    "    )\n",
    "    \n",
    "    labels = []\n",
    "    for i, label in enumerate(examples['labels']):\n",
    "        word_ids = tokenized_inputs.word_ids(batch_index=i)  # Get word ids for each token\n",
    "        previous_word_idx = None\n",
    "        label_ids = []\n",
    "        \n",
    "        for word_idx in word_ids:\n",
    "            if word_idx is None:\n",
    "                # Token corresponds to special tokens like [CLS], [SEP], etc.\n",
    "                label_ids.append(-100)\n",
    "            elif word_idx != previous_word_idx:\n",
    "                # The first token of a word\n",
    "                label_ids.append(label[word_idx])\n",
    "            else:\n",
    "                # Subword token, assign -100 so it's ignored during training\n",
    "                label_ids.append(-100)\n",
    "            previous_word_idx = word_idx\n",
    "\n",
    "        labels.append(label_ids)\n",
    "    \n",
    "    tokenized_inputs['labels'] = labels\n",
    "    return tokenized_inputs\n",
    "\n",
    "# Tokenize the dataset using xlrm_berta\n",
    "\n",
    "tokenized_xlm_dataset = dataset.map(tokenize_and_align_labels, batched=True)"
   ]
  },
  {
   "cell_type": "markdown",
   "metadata": {},
   "source": [
    "# Tokenize and align for mbert"
   ]
  },
  {
   "cell_type": "code",
   "execution_count": 9,
   "metadata": {},
   "outputs": [
    {
     "name": "stderr",
     "output_type": "stream",
     "text": [
      "Map: 100%|██████████| 1351/1351 [00:00<00:00, 2741.49 examples/s]\n"
     ]
    }
   ],
   "source": [
    "# For mBERT\n",
    "tokenizer_mbert = AutoTokenizer.from_pretrained(\n",
    "    'bert-base-multilingual-cased',\n",
    "    clean_up_tokenization_spaces=True\n",
    "    )\n",
    "# Define tokenizer function\n",
    "def tokenize_and_align_labels(examples):\n",
    "    tokenized_inputs = tokenizer_mbert(\n",
    "        examples['tokens'], \n",
    "        truncation=True, \n",
    "        is_split_into_words=True, \n",
    "        padding=\"max_length\",  # Padding to max length\n",
    "        max_length=128  # Adjust as needed\n",
    "    )\n",
    "    \n",
    "    labels = []\n",
    "    for i, label in enumerate(examples['labels']):\n",
    "        word_ids = tokenized_inputs.word_ids(batch_index=i)  # Get word ids for each token\n",
    "        previous_word_idx = None\n",
    "        label_ids = []\n",
    "        \n",
    "        for word_idx in word_ids:\n",
    "            if word_idx is None:\n",
    "                # Token corresponds to special tokens like [CLS], [SEP], etc.\n",
    "                label_ids.append(-100)\n",
    "            elif word_idx != previous_word_idx:\n",
    "                # The first token of a word\n",
    "                label_ids.append(label[word_idx])\n",
    "            else:\n",
    "                # Subword token, assign -100 so it's ignored during training\n",
    "                label_ids.append(-100)\n",
    "            previous_word_idx = word_idx\n",
    "\n",
    "        labels.append(label_ids)\n",
    "    \n",
    "    tokenized_inputs['labels'] = labels\n",
    "    return tokenized_inputs\n",
    "\n",
    "# Tokenize the dataset using xlrm_berta\n",
    "\n",
    "tokenized_mbert_dataset = dataset.map(tokenize_and_align_labels, batched=True)"
   ]
  },
  {
   "cell_type": "markdown",
   "metadata": {},
   "source": [
    "# Tokenize and align label for DistilBERT"
   ]
  },
  {
   "cell_type": "code",
   "execution_count": 10,
   "metadata": {},
   "outputs": [
    {
     "name": "stderr",
     "output_type": "stream",
     "text": [
      "Map: 100%|██████████| 1351/1351 [00:00<00:00, 2907.91 examples/s]\n"
     ]
    }
   ],
   "source": [
    "#Tokenize the dataset using DistilBERT\n",
    "# For DistilBERT\n",
    "tokenizer_distilbert = AutoTokenizer.from_pretrained(\n",
    "    'distilbert-base-multilingual-cased',\n",
    "    clean_up_tokenization_spaces=True\n",
    "    )\n",
    "# Define tokenizer function\n",
    "def tokenize_and_align_labels(examples):\n",
    "    tokenized_inputs = tokenizer_distilbert(\n",
    "        examples['tokens'], \n",
    "        truncation=True, \n",
    "        is_split_into_words=True, \n",
    "        padding=\"max_length\",  # Padding to max length\n",
    "        max_length=128  # Adjust as needed\n",
    "    )\n",
    "    \n",
    "    labels = []\n",
    "    for i, label in enumerate(examples['labels']):\n",
    "        word_ids = tokenized_inputs.word_ids(batch_index=i)  # Get word ids for each token\n",
    "        previous_word_idx = None\n",
    "        label_ids = []\n",
    "        \n",
    "        for word_idx in word_ids:\n",
    "            if word_idx is None:\n",
    "                # Token corresponds to special tokens like [CLS], [SEP], etc.\n",
    "                label_ids.append(-100)\n",
    "            elif word_idx != previous_word_idx:\n",
    "                # The first token of a word\n",
    "                label_ids.append(label[word_idx])\n",
    "            else:\n",
    "                # Subword token, assign -100 so it's ignored during training\n",
    "                label_ids.append(-100)\n",
    "            previous_word_idx = word_idx\n",
    "\n",
    "        labels.append(label_ids)\n",
    "    \n",
    "    tokenized_inputs['labels'] = labels\n",
    "    return tokenized_inputs\n",
    "\n",
    "tokenized_distilbert_dataset = dataset.map(tokenize_and_align_labels, batched=True)"
   ]
  },
  {
   "cell_type": "markdown",
   "metadata": {},
   "source": [
    "# Split the dataset"
   ]
  },
  {
   "cell_type": "code",
   "execution_count": 11,
   "metadata": {},
   "outputs": [],
   "source": [
    "# Split into train and validation datasets\n",
    "train_test_split_xlm = tokenized_xlm_dataset.train_test_split(test_size=0.1)  # 90% train, 10% validation\n",
    "train_test_split_mbert = tokenized_mbert_dataset.train_test_split(test_size=0.1)  # 90% train, 10% validation\n",
    "train_test_split_distilbert = tokenized_distilbert_dataset.train_test_split(test_size=0.1)  # 90% train, 10% validation"
   ]
  },
  {
   "cell_type": "markdown",
   "metadata": {},
   "source": [
    "# Set Up Training Arguments"
   ]
  },
  {
   "cell_type": "code",
   "execution_count": 12,
   "metadata": {},
   "outputs": [],
   "source": [
    "# Set up training arguments with adjustments\n",
    "training_args = TrainingArguments(\n",
    "    output_dir='./results',\n",
    "    eval_strategy=\"epoch\",     # Evaluates at the end of each epoch\n",
    "    learning_rate=2e-5,\n",
    "    per_device_train_batch_size=16,  # Batch size for training\n",
    "    per_device_eval_batch_size=16,   # Batch size for evaluation\n",
    "    num_train_epochs=3,\n",
    "    weight_decay=0.01,               # Strength of weight decay\n",
    "    max_grad_norm=1.0,  # Gradient clipping\n",
    "    logging_dir='./logs',            # Directory for storing logs\n",
    "    logging_strategy=\"steps\",        # Log at regular intervals\n",
    "    logging_steps=50,                # Log every 50 steps\n",
    "    save_strategy=\"epoch\",           # Save model at the end of each epoch\n",
    "    report_to=\"none\",                # Only show logs in the output (no TensorBoard)\n",
    "    use_cpu=True,  # Force training to happen on CPU,\n",
    "    load_best_model_at_end=True,     # Load the best model (based on metric) at the end\n",
    "    metric_for_best_model=\"eval_loss\",# Metric used to determine the best model\n",
    "    save_total_limit=1,              # Only keep the best model, delete the others\n",
    "    \n",
    ")"
   ]
  },
  {
   "cell_type": "markdown",
   "metadata": {},
   "source": [
    "# Load and Fine-Tune the pre-trained model"
   ]
  },
  {
   "cell_type": "code",
   "execution_count": 13,
   "metadata": {},
   "outputs": [
    {
     "name": "stderr",
     "output_type": "stream",
     "text": [
      "Some weights of XLMRobertaForTokenClassification were not initialized from the model checkpoint at xlm-roberta-base and are newly initialized: ['classifier.bias', 'classifier.weight']\n",
      "You should probably TRAIN this model on a down-stream task to be able to use it for predictions and inference.\n",
      "Some weights of DistilBertForTokenClassification were not initialized from the model checkpoint at distilbert-base-multilingual-cased and are newly initialized: ['classifier.bias', 'classifier.weight']\n",
      "You should probably TRAIN this model on a down-stream task to be able to use it for predictions and inference.\n",
      "Some weights of BertForTokenClassification were not initialized from the model checkpoint at bert-base-multilingual-cased and are newly initialized: ['classifier.bias', 'classifier.weight']\n",
      "You should probably TRAIN this model on a down-stream task to be able to use it for predictions and inference.\n"
     ]
    }
   ],
   "source": [
    "# Initialize each of the models\n",
    "# For XLM-Roberta\n",
    "model_xlmr = XLMRobertaForTokenClassification.from_pretrained(\"xlm-roberta-base\", num_labels=len(unique_labels)) # Ensure unique_labels is defined\n",
    "\n",
    "# For DistilBERT\n",
    "model_distilbert = AutoModelForTokenClassification.from_pretrained('distilbert-base-multilingual-cased', num_labels=len(unique_labels))\n",
    "\n",
    "# For mBERT\n",
    "model_distilbert = AutoModelForTokenClassification.from_pretrained('bert-base-multilingual-cased', num_labels=len(unique_labels))"
   ]
  },
  {
   "cell_type": "markdown",
   "metadata": {},
   "source": [
    "# Set Up Trainer for Each Model"
   ]
  },
  {
   "cell_type": "code",
   "execution_count": 14,
   "metadata": {},
   "outputs": [],
   "source": [
    "# Define the function to compute evaluation metrics\n",
    "def compute_metrics(p):\n",
    "    predictions, labels = p\n",
    "    predictions = np.argmax(predictions, axis=2)\n",
    "\n",
    "    # Remove ignored index (special tokens)\n",
    "    true_labels = [[label for label in label_row if label != -100] for label_row in labels]\n",
    "    predicted_labels = [[pred for pred, true in zip(pred_row, true_row) if true != -100] for pred_row, true_row in zip(predictions, labels)]\n",
    "\n",
    "    # Flatten the lists\n",
    "    true_labels_flat = [item for sublist in true_labels for item in sublist]\n",
    "    predicted_labels_flat = [item for sublist in predicted_labels for item in sublist]\n",
    "\n",
    "    # Calculate metrics\n",
    "    precision, recall, f1, _ = precision_recall_fscore_support(true_labels_flat, predicted_labels_flat, average='weighted', zero_division=True)\n",
    "\n",
    "    return {\n",
    "        \"precision\": precision,\n",
    "        \"recall\": recall,\n",
    "        \"f1\": f1\n",
    "    }"
   ]
  },
  {
   "cell_type": "code",
   "execution_count": 15,
   "metadata": {},
   "outputs": [],
   "source": [
    "trainer_xlmr = Trainer(\n",
    "    model=model_xlmr,\n",
    "    args=training_args,\n",
    "    train_dataset=train_test_split_xlm['train'],\n",
    "    eval_dataset=train_test_split_xlm['test'],  # Changed from validation to test based on split\n",
    "    compute_metrics=compute_metrics, # compute f1-score, precision and recall\n",
    ")\n",
    "trainer_distilbert = Trainer(\n",
    "    model=model_distilbert,\n",
    "    args=training_args,\n",
    "    train_dataset=train_test_split_mbert['train'],\n",
    "    eval_dataset=train_test_split_mbert['test'],  # Changed from validation to test based on split\n",
    "    compute_metrics=compute_metrics, # compute f1-score, precision and recall\n",
    ")\n",
    "trainer_mbert = Trainer(\n",
    "    model=model_distilbert,\n",
    "    args=training_args,\n",
    "    train_dataset=train_test_split_distilbert['train'],\n",
    "    eval_dataset=train_test_split_distilbert['test'],  # Changed from validation to test based on split\n",
    "    compute_metrics=compute_metrics, # compute f1-score, precision and recall\n",
    ")"
   ]
  },
  {
   "cell_type": "markdown",
   "metadata": {},
   "source": [
    "# Train, Evaluate and Compare Model Results"
   ]
  },
  {
   "cell_type": "code",
   "execution_count": null,
   "metadata": {},
   "outputs": [
    {
     "name": "stdout",
     "output_type": "stream",
     "text": [
      "For XLM-Roberta\n"
     ]
    },
    {
     "name": "stderr",
     "output_type": "stream",
     "text": [
      "  0%|          | 0/228 [00:00<?, ?it/s]"
     ]
    }
   ],
   "source": [
    "# Fine-tune XLM-Roberta\n",
    "print('For XLM-Roberta')\n",
    "trainer_xlmr.train()\n",
    "\n",
    "# Fine-tune DistilBERT\n",
    "print('For DistilBERT')\n",
    "trainer_distilbert.train()\n",
    "\n",
    "\n",
    "# Fine-tune mBERT\n",
    "print('For mBERT')\n",
    "trainer_mbert.train()"
   ]
  }
 ],
 "metadata": {
  "kernelspec": {
   "display_name": ".env",
   "language": "python",
   "name": "python3"
  },
  "language_info": {
   "codemirror_mode": {
    "name": "ipython",
    "version": 3
   },
   "file_extension": ".py",
   "mimetype": "text/x-python",
   "name": "python",
   "nbconvert_exporter": "python",
   "pygments_lexer": "ipython3",
   "version": "3.12.3"
  }
 },
 "nbformat": 4,
 "nbformat_minor": 2
}
